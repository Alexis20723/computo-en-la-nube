{
  "nbformat": 4,
  "nbformat_minor": 0,
  "metadata": {
    "colab": {
      "provenance": [],
      "authorship_tag": "ABX9TyMCVuBtjt/MHYbMU8TT6QpL",
      "include_colab_link": true
    },
    "kernelspec": {
      "name": "python3",
      "display_name": "Python 3"
    },
    "language_info": {
      "name": "python"
    }
  },
  "cells": [
    {
      "cell_type": "markdown",
      "metadata": {
        "id": "view-in-github",
        "colab_type": "text"
      },
      "source": [
        "<a href=\"https://colab.research.google.com/github/Alexis20723/computo-en-la-nube/blob/main/Comandos_archivo_1_2.ipynb\" target=\"_parent\"><img src=\"https://colab.research.google.com/assets/colab-badge.svg\" alt=\"Open In Colab\"/></a>"
      ]
    },
    {
      "cell_type": "markdown",
      "source": [
        "# **Scopes**"
      ],
      "metadata": {
        "id": "L-5NKrEN56vm"
      }
    },
    {
      "cell_type": "code",
      "execution_count": 9,
      "metadata": {
        "colab": {
          "base_uri": "https://localhost:8080/"
        },
        "id": "f6tyIR8q1XsL",
        "outputId": "baf5d108-0b4e-4293-b447-18771a61087a"
      },
      "outputs": [
        {
          "output_type": "stream",
          "name": "stdout",
          "text": [
            "7\n",
            "5\n"
          ]
        }
      ],
      "source": [
        "# scopes1.py\n",
        "# Definimos una función llamada local\n",
        "def local():\n",
        "\n",
        "  m = 7\n",
        "  print(m)\n",
        "\n",
        "m = 5\n",
        "# Ejecutamos la funcion \"local\"\n",
        "local()\n",
        "print(m)"
      ]
    },
    {
      "cell_type": "markdown",
      "source": [
        "# **Objetos y clases**"
      ],
      "metadata": {
        "id": "r1bnp0nX6MHP"
      }
    },
    {
      "cell_type": "code",
      "source": [
        "# bike.py\n",
        "# Definimos la clase \"Bike\"\n",
        "class bici:\n",
        "\n",
        "  def __init__(self, colour, frame_material):\n",
        "    self.colour = colour\n",
        "    self.frame_material = frame_material\n",
        "  def frenar(self):\n",
        "    print(\"frenando!\")\n",
        "# Creamos un par de instancias\n",
        "bici_roja = bici('roja', 'fibra de carbono')\n",
        "bici_azul = bici('azul', 'metal')\n",
        "#\n",
        "print(bici_roja.colour) # print: Red\n",
        "print(bici_roja.frame_material) # print: Carbon fiber\n",
        "print(bici_azul.colour) # print: Blue\n",
        "print(bici_azul.frame_material) # print: Steel\n",
        "#\n",
        "bici_roja.frenar() # print: frenando!"
      ],
      "metadata": {
        "colab": {
          "base_uri": "https://localhost:8080/"
        },
        "id": "cwIU_drJ5lJK",
        "outputId": "3d016739-f656-42f3-9320-f1dd25e15175"
      },
      "execution_count": 34,
      "outputs": [
        {
          "output_type": "stream",
          "name": "stdout",
          "text": [
            "roja\n",
            "fibra de carbono\n",
            "azul\n",
            "metal\n",
            "frenando!\n"
          ]
        }
      ]
    },
    {
      "cell_type": "markdown",
      "source": [
        "# **Números complejos**"
      ],
      "metadata": {
        "id": "3rB_smqJ-FLY"
      }
    },
    {
      "cell_type": "code",
      "source": [
        "c = 3.14 + 2.73j\n",
        "c = complex(3.14, 2.73) #Dfinimos que los numeros de arriba son complejos\n",
        "c.real # parte real\n",
        "3.14\n",
        "c.imag # parte imaginaria\n",
        "2.73\n",
        "c.conjugate() # conjugar A + Bj es A - Bj\n",
        "(3.14-2.73j)\n",
        "c * 2 # multiplicar\n",
        "(6.28+5.46j)\n",
        "c ** 2\n",
        "(2.4067000000000007+17.1444j)\n",
        "d = 1 + 1j\n",
        "c - d\n",
        "(2.14+1.73j)"
      ],
      "metadata": {
        "colab": {
          "base_uri": "https://localhost:8080/"
        },
        "id": "x6LUh87i-kuk",
        "outputId": "331c5cba-cf25-446a-a58b-5218f2530d47"
      },
      "execution_count": 12,
      "outputs": [
        {
          "output_type": "execute_result",
          "data": {
            "text/plain": [
              "(2.14+1.73j)"
            ]
          },
          "metadata": {},
          "execution_count": 12
        }
      ]
    },
    {
      "cell_type": "markdown",
      "source": [
        "# **Listas**"
      ],
      "metadata": {
        "id": "xJVcQ8E8_nhQ"
      }
    },
    {
      "cell_type": "code",
      "source": [
        "[] # Lisrta vacia\n",
        "[]\n",
        "list()\n",
        "[]\n",
        "[1, 2, 3] # se separan los numeros con \",\"\n",
        "[1, 2, 3]\n",
        "[x + 5 for x in [2, 3, 4]]\n",
        "[7, 8, 9]\n",
        "list((1, 3, 5, 7, 9))\n",
        "[1, 3, 5, 7, 9]\n",
        "list('hola')\n",
        "['h', 'o', 'l', 'l', 'a']"
      ],
      "metadata": {
        "colab": {
          "base_uri": "https://localhost:8080/"
        },
        "id": "cD0SiwXD_rIo",
        "outputId": "64c7ebe2-4b8c-4b3d-b109-479b5d530769"
      },
      "execution_count": 35,
      "outputs": [
        {
          "output_type": "execute_result",
          "data": {
            "text/plain": [
              "['h', 'o', 'l', 'l', 'a']"
            ]
          },
          "metadata": {},
          "execution_count": 35
        }
      ]
    },
    {
      "cell_type": "markdown",
      "source": [
        "# **Bytearrays**"
      ],
      "metadata": {
        "id": "bELm60YMBOuD"
      }
    },
    {
      "cell_type": "code",
      "source": [
        "bytearray() # objeto bytearray vacio\n",
        "bytearray(b'')\n",
        "bytearray(10) # damos un limite al bytearray\n",
        "bytearray(b'\\x00\\x00\\x00\\x00\\x00\\x00\\x00\\x00\\x00\\x00')\n",
        "bytearray(range(5))\n",
        "bytearray(b'\\x00\\x01\\x02\\x03\\x04')\n",
        "name = bytearray(b'Lina')\n",
        "name.replace(b'L', b'l')\n",
        "bytearray(b'lina')\n",
        "name.endswith(b'na')\n",
        "True\n",
        "name.upper()\n",
        "bytearray(b'LINA')\n",
        "name.count(b'L')\n"
      ],
      "metadata": {
        "colab": {
          "base_uri": "https://localhost:8080/"
        },
        "id": "KlNkAPwnBeTi",
        "outputId": "42fb385e-bf10-420b-d757-e6d52fa12bbc"
      },
      "execution_count": 15,
      "outputs": [
        {
          "output_type": "execute_result",
          "data": {
            "text/plain": [
              "1"
            ]
          },
          "metadata": {},
          "execution_count": 15
        }
      ]
    },
    {
      "cell_type": "markdown",
      "source": [
        "# **namedtuple**"
      ],
      "metadata": {
        "id": "x0_t0DkTCEXk"
      }
    },
    {
      "cell_type": "code",
      "source": [
        "vision = (9.5, 8.8)\n",
        "vision\n",
        "(9.5, 8.8)\n",
        "vision[0]\n",
        "9.5\n",
        "vision[1]\n",
        "\n",
        "from collections import namedtuple\n",
        "Vision = namedtuple('Vision', ['izquiera', 'derecha'])\n",
        "vision = Vision(9.5, 8.8)\n",
        "vision[0]\n",
        "9.5\n",
        "vision.izquiera\n",
        "9.5\n",
        "vision.derecha\n",
        "8.8\n",
        "\n",
        "Vision = namedtuple('Vision', ['izquierda', 'combined', 'derecha'])\n",
        "vision = Vision(9.5, 9.2, 8.8)\n",
        "vision.izquierda\n",
        "9.5\n",
        "vision.derecha\n",
        "8.8\n",
        "vision.combined\n",
        "9.2"
      ],
      "metadata": {
        "colab": {
          "base_uri": "https://localhost:8080/"
        },
        "id": "aCc_rmc9CFUo",
        "outputId": "7ad87e0d-47e8-4259-ad42-a05990390f4a"
      },
      "execution_count": 36,
      "outputs": [
        {
          "output_type": "execute_result",
          "data": {
            "text/plain": [
              "9.2"
            ]
          },
          "metadata": {},
          "execution_count": 36
        }
      ]
    },
    {
      "cell_type": "markdown",
      "source": [
        "# **Chainmap**"
      ],
      "metadata": {
        "id": "vWvRBn_XEkJw"
      }
    },
    {
      "cell_type": "code",
      "source": [
        "from collections import ChainMap\n",
        "default_connection = {'host': 'localhost', 'port': 4567}\n",
        "connection = {'port': 5678}\n",
        "conn = ChainMap(connection, default_connection) # creacion del mapa\n",
        "conn['port'] # el puerto se encuantra en el primer diccionario\n",
        "5678\n",
        "conn['host']\n",
        "'localhost'\n",
        "conn.maps #\n",
        "[{'port': 5678}, {'host': 'localhost', 'port': 4567}]\n",
        "conn['host'] = 'packtpub.com' # añadimos el host\n",
        "conn.maps\n",
        "[{'port': 5678, 'host': 'packtpub.com'},\n",
        "{'host': 'localhost', 'port': 4567}]\n",
        "del conn['port'] #removemos el puerto de información\n",
        "conn.maps\n",
        "[{'host': 'packtpub.com'}, {'host': 'localhost', 'port': 4567}]\n",
        "conn['port']\n",
        "4567\n",
        "dict(conn)\n"
      ],
      "metadata": {
        "colab": {
          "base_uri": "https://localhost:8080/"
        },
        "id": "GIAOOZd-E-_O",
        "outputId": "1d884910-6ce0-4696-eb40-cd75f09d0569"
      },
      "execution_count": 31,
      "outputs": [
        {
          "output_type": "execute_result",
          "data": {
            "text/plain": [
              "{'host': 'packtpub.com', 'port': 4567}"
            ]
          },
          "metadata": {},
          "execution_count": 31
        }
      ]
    },
    {
      "cell_type": "markdown",
      "source": [
        "# **Enumeraciones**"
      ],
      "metadata": {
        "id": "eCkJBxONGBUq"
      }
    },
    {
      "cell_type": "code",
      "source": [
        "GREEN = 1\n",
        "YELLOW = 2\n",
        "RED = 4\n",
        "TRAFFIC_LIGHTS = (GREEN, YELLOW, RED)\n",
        "# or with a dict\n",
        "traffic_lights = {'GREEN': 1, 'YELLOW': 2, 'RED': 4}\n",
        "\n",
        "from enum import Enum\n",
        "class TrafficLight(Enum):\n",
        "  GREEN = 1\n",
        "  YELLOW = 2\n",
        "  RED = 4\n",
        "\n",
        "TrafficLight.GREEN\n",
        "TrafficLight.GREEN: 1\n",
        "TrafficLight.GREEN.name\n",
        "\n",
        "TrafficLight.GREEN.value\n",
        "\n",
        "TrafficLight(1)\n",
        "TrafficLight.GREEN: 1\n",
        "TrafficLight(4)\n",
        "TrafficLight.RED: 4"
      ],
      "metadata": {
        "id": "Any0nLq1GBzr"
      },
      "execution_count": 38,
      "outputs": []
    },
    {
      "cell_type": "markdown",
      "source": [
        "# **Programación condicional**"
      ],
      "metadata": {
        "id": "g-sWBbVHIn42"
      }
    },
    {
      "cell_type": "code",
      "source": [
        "tarde =False #si aqui ponemos True imprimira la otra condicional\n",
        "if tarde:\n",
        "  print('necesito llamara a mi jefe!') #1\n",
        "else:\n",
        "  print('no necesito llamar a mi jefe...') #2"
      ],
      "metadata": {
        "colab": {
          "base_uri": "https://localhost:8080/"
        },
        "id": "aBoDuRcRI0oN",
        "outputId": "8b66ee4c-a026-4388-ef34-a54a269d6c83"
      },
      "execution_count": 44,
      "outputs": [
        {
          "output_type": "stream",
          "name": "stdout",
          "text": [
            "no need to call my manager...\n"
          ]
        }
      ]
    },
    {
      "cell_type": "markdown",
      "source": [],
      "metadata": {
        "id": "GeLRsK2GJYQO"
      }
    },
    {
      "cell_type": "code",
      "source": [
        "from itertools import compress\n",
        "data = range(10)\n",
        "even_selector = [1, 0] * 10\n",
        "odd_selector = [0, 1] * 10\n",
        "even_numbers = list(compress(data, even_selector))\n",
        "odd_numbers = list(compress(data, odd_selector))\n",
        "print(odd_selector)\n",
        "print(list(data))\n",
        "print(even_numbers)\n",
        "print(odd_numbers)"
      ],
      "metadata": {
        "colab": {
          "base_uri": "https://localhost:8080/"
        },
        "id": "TEsKx3e0KVXa",
        "outputId": "0f860c0d-b204-42bd-f92b-e7b1f9cec1fc"
      },
      "execution_count": 45,
      "outputs": [
        {
          "output_type": "stream",
          "name": "stdout",
          "text": [
            "[0, 1, 0, 1, 0, 1, 0, 1, 0, 1, 0, 1, 0, 1, 0, 1, 0, 1, 0, 1]\n",
            "[0, 1, 2, 3, 4, 5, 6, 7, 8, 9]\n",
            "[0, 2, 4, 6, 8]\n",
            "[1, 3, 5, 7, 9]\n"
          ]
        }
      ]
    },
    {
      "cell_type": "markdown",
      "source": [
        "# **Combinar tipos de argumentos**"
      ],
      "metadata": {
        "id": "BwXqsrEXMLCD"
      }
    },
    {
      "cell_type": "code",
      "source": [
        "# arguments.combined.py\n",
        "def func(a, b, c, d, e, f):\n",
        "  print(a, b, c, d, e, f)\n",
        "func(1, *(2, 3), f=6, *(4, 5))\n",
        "func(*(1, 2), e=5, *(3, 4), f=6)\n",
        "func(1, **{'b': 2, 'c': 3}, d=4, **{'e': 5, 'f': 6})\n",
        "func(c=3, *(1, 2), **{'d': 4}, e=5, **{'f': 6})"
      ],
      "metadata": {
        "colab": {
          "base_uri": "https://localhost:8080/"
        },
        "id": "Bq2U-NqZMLdX",
        "outputId": "d543f73a-10c3-4fbd-87d3-6e194ea8a235"
      },
      "execution_count": 46,
      "outputs": [
        {
          "output_type": "stream",
          "name": "stdout",
          "text": [
            "1 2 3 4 5 6\n",
            "1 2 3 4 5 6\n",
            "1 2 3 4 5 6\n",
            "1 2 3 4 5 6\n"
          ]
        }
      ]
    },
    {
      "cell_type": "markdown",
      "source": [
        "# **Valores de retorno**"
      ],
      "metadata": {
        "id": "iJp9VJ9QOIiJ"
      }
    },
    {
      "cell_type": "code",
      "source": [
        "from functools import reduce\n",
        "from operator import mul\n",
        "def factorial(n):\n",
        "    return reduce(mul, range(1, n + 1), 1)\n",
        "f5 = factorial(5) # f5 = 120"
      ],
      "metadata": {
        "id": "XM6sC9tLOWCD"
      },
      "execution_count": 65,
      "outputs": []
    }
  ]
}