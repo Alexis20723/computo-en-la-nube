{
  "nbformat": 4,
  "nbformat_minor": 0,
  "metadata": {
    "colab": {
      "provenance": [],
      "authorship_tag": "ABX9TyPx3LO/lquoduwShaWJMgNk",
      "include_colab_link": true
    },
    "kernelspec": {
      "name": "python3",
      "display_name": "Python 3"
    },
    "language_info": {
      "name": "python"
    }
  },
  "cells": [
    {
      "cell_type": "markdown",
      "metadata": {
        "id": "view-in-github",
        "colab_type": "text"
      },
      "source": [
        "<a href=\"https://colab.research.google.com/github/Alexis20723/computo-en-la-nube/blob/main/Ejercicios_de_examen.ipynb\" target=\"_parent\"><img src=\"https://colab.research.google.com/assets/colab-badge.svg\" alt=\"Open In Colab\"/></a>"
      ]
    },
    {
      "cell_type": "markdown",
      "source": [
        "# **Ejercicios examen**"
      ],
      "metadata": {
        "id": "FyglQ6ON-BiU"
      }
    },
    {
      "cell_type": "code",
      "execution_count": 3,
      "metadata": {
        "colab": {
          "base_uri": "https://localhost:8080/"
        },
        "id": "2FU38xw2936k",
        "outputId": "cd1ab55c-1276-4437-aee7-146ce16360fa"
      },
      "outputs": [
        {
          "output_type": "stream",
          "name": "stdout",
          "text": [
            "Ingresa un número entero: 2\n",
            "2 es un número primo.\n"
          ]
        }
      ],
      "source": [
        "def es_primo(numero):\n",
        "    \"\"\"Verifica si un número es primo.\"\"\"\n",
        "    if numero < 2:\n",
        "        return False\n",
        "    for i in range(2, int(numero**0.5) + 1):\n",
        "        if numero % i == 0:\n",
        "            return False\n",
        "    return True\n",
        "\n",
        "if __name__ == \"__main__\":\n",
        "    # Programa principal\n",
        "    try:\n",
        "        # Obtener la entrada del usuario\n",
        "        entrada_usuario = int(input(\"Ingresa un número entero: \"))\n",
        "\n",
        "        # Verificar si el número ingresado es primo\n",
        "        if es_primo(entrada_usuario):\n",
        "            print(f\"{entrada_usuario} es un número primo.\")\n",
        "        else:\n",
        "            print(f\"{entrada_usuario} no es un número primo.\")\n",
        "    except ValueError:\n",
        "        print(\"Por favor, ingresa un entero válido.\")"
      ]
    },
    {
      "cell_type": "markdown",
      "source": [
        "# **Ejercicio 2**"
      ],
      "metadata": {
        "id": "8Te9roiF_RUb"
      }
    },
    {
      "cell_type": "code",
      "source": [
        "# Importar la función is_prime del Ejercicio 1\n",
        "from ejercicio1_solucion import es_primo\n",
        "\n",
        "def siguiente_primo(n):\n",
        "    \"\"\"Encuentra y devuelve el primer número primo mayor que n.\"\"\"\n",
        "    candidato = n + 1\n",
        "    while not es_primo(candidato):\n",
        "        candidato += 1\n",
        "    return candidato\n",
        "\n",
        "if __name__ == \"__main__\":\n",
        "    try:\n",
        "        entrada_usuario = int(input(\"Ingresa un número entero: \"))\n",
        "        resultado = siguiente_primo(entrada_usuario)\n",
        "        print(f\"El próximo número primo mayor que {entrada_usuario} es {resultado}.\")\n",
        "    except ValueError:\n",
        "        print(\"Por favor, ingresa un entero válido.\")\n"
      ],
      "metadata": {
        "id": "HvKd_330_T_C"
      },
      "execution_count": null,
      "outputs": []
    },
    {
      "cell_type": "markdown",
      "source": [
        "# **Ejercicio 3**"
      ],
      "metadata": {
        "id": "ORPO6fhl_Xcs"
      }
    },
    {
      "cell_type": "code",
      "source": [
        "def mediana_de_tres(num1, num2, num3):\n",
        "    \"\"\"Devuelve el valor mediano de tres números.\"\"\"\n",
        "    # Encontrar el valor intermedio\n",
        "    if num1 <= num2 <= num3 or num3 <= num2 <= num1:\n",
        "        return num2\n",
        "    elif num2 <= num1 <= num3 or num3 <= num1 <= num2:\n",
        "        return num1\n",
        "    else:\n",
        "        return num3\n",
        "\n",
        "if __name__ == \"__main__\":\n",
        "    try:\n",
        "        # Obtener la entrada del usuario\n",
        "        num1 = float(input(\"Ingresa el primer número: \"))\n",
        "        num2 = float(input(\"Ingresa el segundo número: \"))\n",
        "        num3 = float(input(\"Ingresa el tercer número: \"))\n",
        "\n",
        "        # Calcular y mostrar la mediana\n",
        "        resultado = mediana_de_tres(num1, num2, num3)\n",
        "        print(f\"La mediana de {num1}, {num2} y {num3} es {resultado}.\")\n",
        "    except ValueError:\n",
        "        print(\"Por favor, ingresa valores numéricos válidos.\")\n"
      ],
      "metadata": {
        "colab": {
          "base_uri": "https://localhost:8080/"
        },
        "id": "vqrTwuEQ_aU1",
        "outputId": "6394c17f-77f2-4314-c85b-d477d072a6af"
      },
      "execution_count": 4,
      "outputs": [
        {
          "output_type": "stream",
          "name": "stdout",
          "text": [
            "Ingresa el primer número: 10\n",
            "Ingresa el segundo número: 10\n",
            "Ingresa el tercer número: 10\n",
            "La mediana de 10.0, 10.0 y 10.0 es 10.0.\n"
          ]
        }
      ]
    },
    {
      "cell_type": "markdown",
      "source": [
        "# **Ejercicio 4**"
      ],
      "metadata": {
        "id": "GA9_sfXe_sE0"
      }
    },
    {
      "cell_type": "code",
      "source": [
        "import random\n",
        "\n",
        "def generar_contraseña_aleatoria():\n",
        "    \"\"\"Genera una contraseña aleatoria.\"\"\"\n",
        "    longitud_contraseña = random.randint(7, 10)\n",
        "    contraseña = ''.join(chr(random.randint(33, 126)) for _ in range(longitud_contraseña))\n",
        "    return contraseña\n",
        "\n",
        "if __name__ == \"__main__\":\n",
        "    # Muestra la contraseña generada aleatoriamente\n",
        "    contraseña_aleatoria = generar_contraseña_aleatoria()\n",
        "    print(f\"Contraseña generada aleatoriamente: {contraseña_aleatoria}\")\n"
      ],
      "metadata": {
        "colab": {
          "base_uri": "https://localhost:8080/"
        },
        "id": "J9ADYhkh_ukB",
        "outputId": "342b6410-f11e-485b-8070-55976a31794d"
      },
      "execution_count": 7,
      "outputs": [
        {
          "output_type": "stream",
          "name": "stdout",
          "text": [
            "Contraseña generada aleatoriamente: V9D\\AE<\n"
          ]
        }
      ]
    },
    {
      "cell_type": "markdown",
      "source": [
        "# Ejercicio **5**"
      ],
      "metadata": {
        "id": "_ScFV4gL_xRi"
      }
    },
    {
      "cell_type": "code",
      "source": [
        "def calcular_hipotenusa(lado1, lado2):\n",
        "    \"\"\"Calcula la hipotenusa de un triángulo rectángulo.\"\"\"\n",
        "    hipotenusa = (lado1**2 + lado2**2)**0.5\n",
        "    return hipotenusa\n",
        "\n",
        "if __name__ == \"__main__\":\n",
        "    try:\n",
        "        # Obtener la entrada del usuario para las longitudes de los lados más cortos\n",
        "        lado_corto1 = float(input(\"Ingresa la longitud del primer lado más corto: \"))\n",
        "        lado_corto2 = float(input(\"Ingresa la longitud del segundo lado más corto: \"))\n",
        "\n",
        "        # Calcular la hipotenusa usando la función\n",
        "        resultado = calcular_hipotenusa(lado_corto1, lado_corto2)\n",
        "\n",
        "        # Mostrar el resultado\n",
        "        print(f\"La hipotenusa del triángulo rectángulo es: {resultado}\")\n",
        "    except ValueError:\n",
        "        print(\"Por favor, ingresa valores numéricos válidos.\")\n"
      ],
      "metadata": {
        "colab": {
          "base_uri": "https://localhost:8080/"
        },
        "id": "caxzJLgm_1YD",
        "outputId": "5cfa3e9b-4b05-4437-eff4-3fe86c27e73f"
      },
      "execution_count": 8,
      "outputs": [
        {
          "output_type": "stream",
          "name": "stdout",
          "text": [
            "Ingresa la longitud del primer lado más corto: 12\n",
            "Ingresa la longitud del segundo lado más corto: 3\n",
            "La hipotenusa del triángulo rectángulo es: 12.36931687685298\n"
          ]
        }
      ]
    }
  ]
}