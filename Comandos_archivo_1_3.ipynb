{
  "nbformat": 4,
  "nbformat_minor": 0,
  "metadata": {
    "colab": {
      "provenance": [],
      "authorship_tag": "ABX9TyNpoLm69mvjU5cHc7vWEpj0",
      "include_colab_link": true
    },
    "kernelspec": {
      "name": "python3",
      "display_name": "Python 3"
    },
    "language_info": {
      "name": "python"
    }
  },
  "cells": [
    {
      "cell_type": "markdown",
      "metadata": {
        "id": "view-in-github",
        "colab_type": "text"
      },
      "source": [
        "<a href=\"https://colab.research.google.com/github/Alexis20723/computo-en-la-nube/blob/main/Comandos_archivo_1_3.ipynb\" target=\"_parent\"><img src=\"https://colab.research.google.com/assets/colab-badge.svg\" alt=\"Open In Colab\"/></a>"
      ]
    },
    {
      "cell_type": "markdown",
      "source": [
        "# **Abrir archivos**"
      ],
      "metadata": {
        "id": "cosYMIOrSl9p"
      }
    },
    {
      "cell_type": "code",
      "source": [
        "fh = open('fear.txt', 'rt') # r: read, t: text\n",
        "for line in fh.readlines():\n",
        "  print(line.strip())\n",
        "fh.close()"
      ],
      "metadata": {
        "id": "ULOYM5DdVOHp"
      },
      "execution_count": null,
      "outputs": []
    },
    {
      "cell_type": "markdown",
      "source": [
        "# **Leer y escribir en un archivo**"
      ],
      "metadata": {
        "id": "gBBUGKbVVeuj"
      }
    },
    {
      "cell_type": "code",
      "source": [
        "with open('print_example.txt', 'w') as fw:\n",
        "  print('HEscribiendo en un archivo!!!', file=fw)"
      ],
      "metadata": {
        "id": "RlYYcaO7WCJn"
      },
      "execution_count": null,
      "outputs": []
    },
    {
      "cell_type": "markdown",
      "source": [
        "# **Comprobar existencia de un archivo**"
      ],
      "metadata": {
        "id": "X-6DW9ScWSUx"
      }
    },
    {
      "cell_type": "code",
      "source": [
        "from pathlib import Path\n",
        "p = Path('fear.txt')\n",
        "path = p.parent.absolute()\n",
        "print(p.is_file()) # True\n",
        "print(path) # /Users/fab/srv/lpp3e/ch08/files\n",
        "print(path.is_dir()) # True\n",
        "q = Path('/Users/fab/srv/lpp3e/ch08/files')\n",
        "print(q.is_dir()) # True"
      ],
      "metadata": {
        "colab": {
          "base_uri": "https://localhost:8080/"
        },
        "id": "zHqH9Bs-Whab",
        "outputId": "27240fd8-26d0-41b0-d6d1-648e4c3ed728"
      },
      "execution_count": 3,
      "outputs": [
        {
          "output_type": "stream",
          "name": "stdout",
          "text": [
            "False\n",
            "/content\n",
            "True\n",
            "False\n"
          ]
        }
      ]
    },
    {
      "cell_type": "markdown",
      "source": [
        "# **Manipular nombres**"
      ],
      "metadata": {
        "id": "Se46wkLAXYmI"
      }
    },
    {
      "cell_type": "code",
      "source": [
        "from pathlib import Path\n",
        "p = Path('fear.txt')\n",
        "print(p.absolute())\n",
        "print(p.name)\n",
        "print(p.parent.absolute())\n",
        "print(p.suffix)\n",
        "print(p.parts)\n",
        "print(p.absolute().parts)\n",
        "readme_path = p.parent / '..' / '..' / 'README.rst'\n",
        "print(readme_path.absolute())\n",
        "print(readme_path.resolve())"
      ],
      "metadata": {
        "id": "Dy_FE7WvXpY3"
      },
      "execution_count": null,
      "outputs": []
    },
    {
      "cell_type": "markdown",
      "source": [
        "# **Comprimir archivos y directorios**"
      ],
      "metadata": {
        "id": "s-WLhNGJX5kT"
      }
    },
    {
      "cell_type": "code",
      "source": [
        "from zipfile import ZipFile\n",
        "with ZipFile('example.zip', 'w') as zp:\n",
        "  zp.write('content1.txt')\n",
        "  zp.write('content2.txt')\n",
        "  zp.write('subfolder/content3.txt')\n",
        "  zp.write('subfolder/content4.txt')\n",
        "with ZipFile('example.zip') as zp:\n",
        "  zp.extract('content1.txt', 'extract_zip')\n",
        "  zp.extract('subfolder/content3.txt', 'extract_zip')"
      ],
      "metadata": {
        "id": "xX-v8EaQYO45"
      },
      "execution_count": null,
      "outputs": []
    },
    {
      "cell_type": "markdown",
      "source": [
        "# **Trabajar con archvivos .JSON**"
      ],
      "metadata": {
        "id": "-ip4VVBYYVNz"
      }
    },
    {
      "cell_type": "code",
      "source": [
        "import sys\n",
        "import json\n",
        "data = {\n",
        "  'big_number': 2 ** 3141,\n",
        "  'max_float': sys.float_info.max,\n",
        "  'a_list': [2, 3, 5, 7],\n",
        "}\n",
        "json_data = json.dumps(data)\n",
        "data_out = json.loads(json_data)\n",
        "assert data == data_out"
      ],
      "metadata": {
        "id": "fMeOVY5SYjcP"
      },
      "execution_count": null,
      "outputs": []
    },
    {
      "cell_type": "markdown",
      "source": [
        "# **Flujos de memoria**"
      ],
      "metadata": {
        "id": "URdKDp8HYqIb"
      }
    },
    {
      "cell_type": "code",
      "source": [
        "import io\n",
        "stream = io.StringIO()\n",
        "stream.write('Aprendiendo a programar en Python.\\n')\n",
        "print('Muy bien!', file=stream)\n",
        "contents = stream.getvalue()\n",
        "print(contents)\n",
        "stream.close()"
      ],
      "metadata": {
        "id": "G2naA5aSae_t"
      },
      "execution_count": null,
      "outputs": []
    },
    {
      "cell_type": "markdown",
      "source": [
        "# **Solicitudes de HTTP**"
      ],
      "metadata": {
        "id": "k58uZw-HcBwZ"
      }
    },
    {
      "cell_type": "code",
      "source": [
        "import requests\n",
        "urls = {\n",
        "  \"get\": \"https://httpbin.org/get?t=learn+python+programming\",\n",
        "  \"headers\": \"https://httpbin.org/headers\",\n",
        "  \"ip\": \"https://httpbin.org/ip\",\n",
        "  \"user-agent\": \"https://httpbin.org/user-agent\",\n",
        "  \"UUID\": \"https://httpbin.org/uuid\",\n",
        "  \"JSON\": \"https://httpbin.org/json\",\n",
        "}\n",
        "def get_content(title, url):\n",
        "  resp = requests.get(url)\n",
        "  print(f\"Response for {title}\")\n",
        "  print(resp.json())\n",
        "for title, url in urls.items():\n",
        "  get_content(title, url)\n",
        "  print(\"-\" * 40)"
      ],
      "metadata": {
        "id": "YHifI0fvcJa9"
      },
      "execution_count": null,
      "outputs": []
    },
    {
      "cell_type": "markdown",
      "source": [
        "# **Sincronizar datos con Pickle**"
      ],
      "metadata": {
        "id": "JenIFjBAchHR"
      }
    },
    {
      "cell_type": "code",
      "source": [
        "import pickle\n",
        "from dataclasses import dataclass\n",
        "@dataclass\n",
        "class Person:\n",
        "  first_name: str\n",
        "  last_name: str\n",
        "  id: int\n",
        "  def greet(self):\n",
        "    print(f'Hola, soy {self.first_name} {self.last_name}'\n",
        "      f' y mi ID es {self.id}')\n",
        "people = [\n",
        "    Person('Obi-Wan', 'Kenobi', 123),\n",
        "    Person('Anakin', 'Skywalker', 456),\n",
        "]\n",
        "# Guardamos los datos en un archivo binario\n",
        "with open('data.pickle', 'wb') as stream:\n",
        "  pickle.dump(people, stream)\n",
        "# Caergamos los datos del archivo\n",
        "with open('data.pickle', 'rb') as stream:\n",
        "  peeps = pickle.load(stream)\n",
        "for person in peeps:\n",
        "  person.greet()"
      ],
      "metadata": {
        "id": "NnntaJlCcu9K"
      },
      "execution_count": null,
      "outputs": []
    },
    {
      "cell_type": "markdown",
      "source": [
        "# **Guardar datos con Shelve**"
      ],
      "metadata": {
        "id": "qIHOm0ccdiWv"
      }
    },
    {
      "cell_type": "code",
      "source": [
        "import shelve\n",
        "class Person:\n",
        "  def __init__(self, name, id):\n",
        "        self.name = name\n",
        "        self.id = id\n",
        "with shelve.open('shelf1.shelve') as db:\n",
        "    db['obi1'] = Person('Obi-Wan', 123)\n",
        "    db['ani'] = Person('Anakin', 456)\n",
        "    db['a_list'] = [2, 3, 5]\n",
        "    db['delete_me'] = 'we will have to delete this one...'\n",
        "    print(list(db.keys())) # 'ani', 'delete_me', 'a_list', 'obi1']\n",
        "    del db['delete_me'] # gone!\n",
        "    print(list(db.keys())) # ['ani', 'a_list', 'obi1']\n",
        "    print('delete_me' in db) # False\n",
        "    print('ani' in db) # True\n",
        "    a_list = db['a_list']\n",
        "    a_list.append(7)\n",
        "    db['a_list'] = a_list\n",
        "    print(db['a_list']) # [2, 3, 5, 7]"
      ],
      "metadata": {
        "id": "EpWlLp4udqOx"
      },
      "execution_count": null,
      "outputs": []
    },
    {
      "cell_type": "markdown",
      "source": [
        "# **Guardando datos en una base de datos**"
      ],
      "metadata": {
        "id": "fpjFXHpTeDq-"
      }
    },
    {
      "cell_type": "code",
      "source": [
        "from sqlalchemy.ext.declarative import declarative_base\n",
        "from sqlalchemy import (\n",
        "Column, Integer, String, ForeignKey, create_engine)\n",
        "from sqlalchemy.orm import relationship\n",
        "\n",
        "engine = create_engine('sqlite:///:memory:')\n",
        "Base = declarative_base()\n",
        "class Person(Base):\n",
        "    __tablename__ = 'person'\n",
        "    id = Column(Integer, primary_key=True)\n",
        "    name = Column(String)\n",
        "    age = Column(Integer)\n",
        "    addresses = relationship(\n",
        "        'Address',\n",
        "        back_populates='person',\n",
        "        order_by='Address.email',\n",
        "        cascade='all, delete-orphan'\n",
        "    )\n",
        "    def __repr__(self):\n",
        "        return f'{self.name}(id={self.id})'\n",
        "class Address(Base):\n",
        "    __tablename__ = 'address'\n",
        "    id = Column(Integer, primary_key=True)\n",
        "\n",
        "    email = Column(String)\n",
        "    person_id = Column(ForeignKey('person.id'))\n",
        "    person = relationship('Person', back_populates='addresses')\n",
        "    def __str__(self):\n",
        "        return self.email\n",
        "    __repr__ = __str__\n",
        "Base.metadata.create_all(engine)"
      ],
      "metadata": {
        "id": "VKMf5rnzeLY8"
      },
      "execution_count": null,
      "outputs": []
    }
  ]
}